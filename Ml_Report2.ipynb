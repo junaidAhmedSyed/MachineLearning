{
 "cells": [
  {
   "cell_type": "markdown",
   "metadata": {},
   "source": [
    "## MATH2319 Machine Learning Project Phase 2\n",
    "                                                                                           \n",
    "  ## Predicting if the client will subscribe (yes/no) a term deposit\n",
    "\n",
    "\n",
    "\n",
    "\n",
    "\n",
    "\n",
    "\n",
    "\n",
    "\n",
    "\n",
    "                                                                                 \n",
    "                                                                                                \n",
    "                                                                                                   \n",
    "\n",
    "\n",
    "\n",
    "\n",
    "\n",
    "\n",
    "\n",
    "\n",
    "\n",
    "  >  **Names**: Junaid Ahmed Syed & Saikat Mitra\n",
    " \n",
    " \n",
    " \n",
    " \n",
    " >  **Student ID's**: s3731300 & s3726313\n",
    "  \n",
    "  \n",
    "  \n",
    "  \n",
    "  \n",
    "\n",
    "\n",
    "\n",
    "\n"
   ]
  },
  {
   "cell_type": "markdown",
   "metadata": {},
   "source": [
    "# Introduction\n",
    "\n",
    "The Goal of this project is to fit and compare 3 classifiers of binary cardinality to predict if the client will subscribe (yes/no) to a term deposit using the 1994 US Census Data sourced from the UCI Machine Learning Repository<strong data-cite=\"bank_uci\">(UCI, 2014)</strong>.. There are 20 descriptive features out of which 10 are numeric and 9 nominal categorical features and 1 ordinal categorical feature. The target feature has two classes defined as \"no\" and \"yes\" respectively. The full dataset contains about 45K observations. This report is a continuation of phase 1 which has included a brief description, pre-processing and visualization of the data.\n",
    "This report is organized as follows. Section 2  (Overview)  our methodology. Section 3 involves  (Data Preparation)  data pre-processing. In Section 4, we have done the hyperparameter tuning process for each classification algorithm. In Section 5  (Performance Comparison) we present model performance comparison. Section 6  discusses the limitations of our approach. In the last section is to present a brief summary."
   ]
  },
  {
   "cell_type": "markdown",
   "metadata": {},
   "source": [
    "# Overview\n",
    "The strategy of modelling starts with cleaning the full dataset which has been done in  Phase I. This transformation further includes encoding both nominal and ordinal categorical descriptive features as numerical and then normalising the data of descriptive features using MinMax Scaler. We first randomly sample 5K rows from the full dataset and then split this sample into training and test sets with a 70:30 ratio. Then our train dataset has 3.5K rows and test dataset has 1.5K rows.\n",
    "\n",
    "\n",
    "Out of all 20 features,  10 features are selected using Random Forest Importance method inside a pipeline. We consider 10, 20, and the full set of features (with 50 features)\n",
    "\n",
    "Using feature selection together with hyperparameter search inside a single pipeline, we conduct 5-fold stratified cross-validation to fine-tune hyperparameters to each of the following classifiers using the area under the curve (AUC) as the performance.\n",
    "\n",
    "* K-Nearest Neighbors (KNN),\n",
    "* Decision trees (DT), and\n",
    "* Naive Bayes (NB).\n",
    "\n",
    "The best parameters will be identified for each of the three classifier types using a hyperparameter search on the training data. Then we conduct 10-fold cross-validation on the test data and perform a paired t-test. In addition, we compare the classifiers with respect to their recall scores, confusion matrices and accuracy_scores on the test data.\n"
   ]
  },
  {
   "cell_type": "markdown",
   "metadata": {},
   "source": [
    "# Data Preparation\n",
    "## Loading Dataset\n",
    "\n"
   ]
  },
  {
   "cell_type": "code",
   "execution_count": 1,
   "metadata": {},
   "outputs": [
    {
     "name": "stdout",
     "output_type": "stream",
     "text": [
      "(41188, 21)\n"
     ]
    },
    {
     "data": {
      "text/plain": [
       "array(['age', 'job', 'marital', 'education', 'default', 'housing', 'loan',\n",
       "       'contact', 'month', 'day_of_week', 'duration', 'campaign', 'pdays',\n",
       "       'previous', 'poutcome', 'emp.var.rate', 'cons.price.idx',\n",
       "       'cons.conf.idx', 'euribor3m', 'nr.employed', 'y'], dtype=object)"
      ]
     },
     "execution_count": 1,
     "metadata": {},
     "output_type": "execute_result"
    }
   ],
   "source": [
    "import warnings\n",
    "warnings.filterwarnings(\"ignore\")\n",
    "\n",
    "\n",
    "import pandas as pd\n",
    "\n",
    "\n",
    "Bank_ds = pd.read_csv('bank-additional-full.csv', sep=';')\n",
    "\n",
    "print(Bank_ds.shape)\n",
    "\n",
    "Bank_ds.columns.values"
   ]
  },
  {
   "cell_type": "markdown",
   "metadata": {},
   "source": [
    "## Shape of the dataset\n",
    "First we check the shape of the dataset to confirm that the features are matched with the description as outlined in the document."
   ]
  },
  {
   "cell_type": "code",
   "execution_count": 2,
   "metadata": {},
   "outputs": [
    {
     "name": "stdout",
     "output_type": "stream",
     "text": [
      "Dimension of the data set is{Bank.shape}\n",
      "\n",
      "Data Types are:\n",
      "age                 int64\n",
      "job                object\n",
      "marital            object\n",
      "education          object\n",
      "default            object\n",
      "housing            object\n",
      "loan               object\n",
      "contact            object\n",
      "month              object\n",
      "day_of_week        object\n",
      "duration            int64\n",
      "campaign            int64\n",
      "pdays               int64\n",
      "previous            int64\n",
      "poutcome           object\n",
      "emp.var.rate      float64\n",
      "cons.price.idx    float64\n",
      "cons.conf.idx     float64\n",
      "euribor3m         float64\n",
      "nr.employed       float64\n",
      "y                  object\n",
      "dtype: object\n"
     ]
    }
   ],
   "source": [
    "print(\"Dimension of the data set is{Bank.shape}\\n\")\n",
    "print(\"Data Types are:\")\n",
    "print(Bank_ds.dtypes)"
   ]
  },
  {
   "cell_type": "markdown",
   "metadata": {},
   "source": [
    "We are dropping 3 columns from the dataset as from the the visualisations which were done phase 1 report,we can see that these columns has no predictive power. "
   ]
  },
  {
   "cell_type": "code",
   "execution_count": 3,
   "metadata": {},
   "outputs": [],
   "source": [
    "Bank_ds=Bank_ds.drop(['duration'],1)\n",
    "Bank_ds=Bank_ds.drop(['poutcome'],1)"
   ]
  },
  {
   "cell_type": "markdown",
   "metadata": {},
   "source": [
    "## Checking for missing values\n",
    " We can see that there are no missing values in the data."
   ]
  },
  {
   "cell_type": "code",
   "execution_count": 4,
   "metadata": {},
   "outputs": [
    {
     "data": {
      "text/plain": [
       "age               0\n",
       "job               0\n",
       "marital           0\n",
       "education         0\n",
       "default           0\n",
       "housing           0\n",
       "loan              0\n",
       "contact           0\n",
       "month             0\n",
       "day_of_week       0\n",
       "campaign          0\n",
       "pdays             0\n",
       "previous          0\n",
       "emp.var.rate      0\n",
       "cons.price.idx    0\n",
       "cons.conf.idx     0\n",
       "euribor3m         0\n",
       "nr.employed       0\n",
       "y                 0\n",
       "dtype: int64"
      ]
     },
     "execution_count": 4,
     "metadata": {},
     "output_type": "execute_result"
    }
   ],
   "source": [
    "Bank_ds.isna().sum()"
   ]
  },
  {
   "cell_type": "markdown",
   "metadata": {},
   "source": [
    "## Encoding Categorical Descriptive Features\n",
    "Seperating target and descriptive features and labeling them as Bank and target respectively."
   ]
  },
  {
   "cell_type": "code",
   "execution_count": 5,
   "metadata": {},
   "outputs": [
    {
     "data": {
      "text/plain": [
       "no     36548\n",
       "yes     4640\n",
       "Name: y, dtype: int64"
      ]
     },
     "execution_count": 5,
     "metadata": {},
     "output_type": "execute_result"
    }
   ],
   "source": [
    "Bank = Bank_ds.drop(columns='y')\n",
    "target = Bank_ds['y']\n",
    "target.value_counts()"
   ]
  },
  {
   "cell_type": "markdown",
   "metadata": {},
   "source": [
    "### Encoding Target variable \n",
    "To encode Target variable as 0 and 1 we use LableEncoder from the sklearn preprocessing module."
   ]
  },
  {
   "cell_type": "code",
   "execution_count": 6,
   "metadata": {},
   "outputs": [],
   "source": [
    "from sklearn import preprocessing\n",
    "\n",
    "le = preprocessing.LabelEncoder()\n",
    "le_fit = le.fit(target)\n",
    "target = le_fit.transform(target)"
   ]
  },
  {
   "cell_type": "markdown",
   "metadata": {},
   "source": [
    "### Encoding Categorical Descriptive Features\n",
    "\n",
    "#### Integer-encoding for ordinal Categorical Features\n",
    "\n",
    "\n",
    "Among all the descriptive features, `education` column is ordinal so we have used integer encoding for ordinal categorical features and labelled them with integer starting from 0 to 7 using replace function.  "
   ]
  },
  {
   "cell_type": "code",
   "execution_count": 7,
   "metadata": {},
   "outputs": [
    {
     "data": {
      "text/plain": [
       "6    12168\n",
       "5     9515\n",
       "4     6045\n",
       "7     5243\n",
       "2     4176\n",
       "3     2292\n",
       "0     1731\n",
       "1       18\n",
       "Name: education, dtype: int64"
      ]
     },
     "execution_count": 7,
     "metadata": {},
     "output_type": "execute_result"
    }
   ],
   "source": [
    "\n",
    "level_mapping = {'unknown': 0, 'illiterate': 1, 'basic.4y': 2,'basic.6y': 3,'basic.9y': 4,\n",
    "                 'high.school': 5, 'university.degree': 6,'professional.course': 7}\n",
    "Bank['education'] = Bank['education'].replace(level_mapping)\n",
    "Bank['education'].value_counts()"
   ]
  },
  {
   "cell_type": "markdown",
   "metadata": {},
   "source": [
    "#### Hot-encoding for Nomial Categorical Features\n",
    "\n",
    "For converting Nomial Categorical Features to numerical we did one-hot encoding we defined a custom function for each two-level categorical variable. For columns of level 0,1 we set the drop_first option to true to encode them into a single column and for the columns more than 2 levels we apply the get_dummies()  for the regular one-hot encoding."
   ]
  },
  {
   "cell_type": "code",
   "execution_count": 8,
   "metadata": {},
   "outputs": [],
   "source": [
    "categorical = Bank.columns[Bank.dtypes==object].tolist()\n",
    "\n",
    "for col in categorical:\n",
    "    n = len(Bank[col].unique())\n",
    "    if (n == 2):\n",
    "        Bank[col] = pd.get_dummies(Bank[col], drop_first=True)\n",
    "\n",
    "Bank = pd.get_dummies(Bank)"
   ]
  },
  {
   "cell_type": "markdown",
   "metadata": {},
   "source": [
    "After this step , we can see that the  Descriptive feature set has 50 columns."
   ]
  },
  {
   "cell_type": "code",
   "execution_count": 9,
   "metadata": {},
   "outputs": [
    {
     "data": {
      "text/plain": [
       "Index(['age', 'education', 'contact', 'campaign', 'pdays', 'previous',\n",
       "       'emp.var.rate', 'cons.price.idx', 'cons.conf.idx', 'euribor3m',\n",
       "       'nr.employed', 'job_admin.', 'job_blue-collar', 'job_entrepreneur',\n",
       "       'job_housemaid', 'job_management', 'job_retired', 'job_self-employed',\n",
       "       'job_services', 'job_student', 'job_technician', 'job_unemployed',\n",
       "       'job_unknown', 'marital_divorced', 'marital_married', 'marital_single',\n",
       "       'marital_unknown', 'default_no', 'default_unknown', 'default_yes',\n",
       "       'housing_no', 'housing_unknown', 'housing_yes', 'loan_no',\n",
       "       'loan_unknown', 'loan_yes', 'month_apr', 'month_aug', 'month_dec',\n",
       "       'month_jul', 'month_jun', 'month_mar', 'month_may', 'month_nov',\n",
       "       'month_oct', 'month_sep', 'day_of_week_fri', 'day_of_week_mon',\n",
       "       'day_of_week_thu', 'day_of_week_tue', 'day_of_week_wed'],\n",
       "      dtype='object')"
      ]
     },
     "execution_count": 9,
     "metadata": {},
     "output_type": "execute_result"
    }
   ],
   "source": [
    "Bank.columns"
   ]
  },
  {
   "cell_type": "markdown",
   "metadata": {},
   "source": [
    "## Scaling Descriptive Features\n",
    "After converting all the features to numeric, we normalized them by using MinMax Scalar. Before doing that, we save a normal copy of data."
   ]
  },
  {
   "cell_type": "code",
   "execution_count": 10,
   "metadata": {},
   "outputs": [],
   "source": [
    "Bank_df = Bank.copy()\n",
    "Scaler = preprocessing.MinMaxScaler()\n",
    "Scaler.fit(Bank)\n",
    "Bank = Scaler.fit_transform(Bank)"
   ]
  },
  {
   "cell_type": "markdown",
   "metadata": {},
   "source": [
    "## Feature selection\n",
    "For Simplicity, we are selecting 10 most important features  selected by Random Forest Importance (RFI) from the full dataset. This is for a quick ranking of the most relevant 10 features to gain some insight into the problem at hand. During the hyperparameter tuning phase, we will include RFI as part of the pipeline and we will search over 10, 20, and the full set of 50 features to determine which number of features works best with each classifier."
   ]
  },
  {
   "cell_type": "code",
   "execution_count": 11,
   "metadata": {},
   "outputs": [
    {
     "data": {
      "text/plain": [
       "array(['age', 'euribor3m', 'campaign', 'education', 'pdays',\n",
       "       'nr.employed', 'emp.var.rate', 'previous', 'cons.price.idx',\n",
       "       'cons.conf.idx'], dtype=object)"
      ]
     },
     "execution_count": 11,
     "metadata": {},
     "output_type": "execute_result"
    }
   ],
   "source": [
    "from sklearn.ensemble import RandomForestClassifier\n",
    "import numpy as np\n",
    "num_features = 10\n",
    "model_rfi = RandomForestClassifier(n_estimators=100)\n",
    "model_rfi.fit(Bank, target)\n",
    "fs_indices_rfi = np.argsort(model_rfi.feature_importances_)[::-1][0:num_features]\n",
    "\n",
    "best_features_rfi = Bank_df.columns[fs_indices_rfi].values\n",
    "best_features_rfi"
   ]
  },
  {
   "cell_type": "code",
   "execution_count": 12,
   "metadata": {},
   "outputs": [
    {
     "data": {
      "text/plain": [
       "array([0.17227963, 0.12457136, 0.08652432, 0.07071197, 0.05193277,\n",
       "       0.04711875, 0.02995865, 0.02876424, 0.02340576, 0.02075894])"
      ]
     },
     "execution_count": 12,
     "metadata": {},
     "output_type": "execute_result"
    }
   ],
   "source": [
    "feature_importances_rfi = model_rfi.feature_importances_[fs_indices_rfi]\n",
    "feature_importances_rfi"
   ]
  },
  {
   "cell_type": "markdown",
   "metadata": {},
   "source": [
    "- Visualising the important features\n"
   ]
  },
  {
   "cell_type": "code",
   "execution_count": 13,
   "metadata": {},
   "outputs": [
    {
     "data": {
      "application/vnd.vegalite.v2+json": {
       "$schema": "https://vega.github.io/schema/vega-lite/v2.6.0.json",
       "config": {
        "view": {
         "height": 300,
         "width": 400
        }
       },
       "data": {
        "name": "data-6d3b3789037da6403a6ea66530bae52d"
       },
       "datasets": {
        "data-6d3b3789037da6403a6ea66530bae52d": [
         {
          "features": "age",
          "importances": 0.1722796263260232
         },
         {
          "features": "euribor3m",
          "importances": 0.12457135575845614
         },
         {
          "features": "campaign",
          "importances": 0.08652431674436963
         },
         {
          "features": "education",
          "importances": 0.0707119692469036
         },
         {
          "features": "pdays",
          "importances": 0.051932770254550516
         },
         {
          "features": "nr.employed",
          "importances": 0.04711875492551508
         },
         {
          "features": "emp.var.rate",
          "importances": 0.029958649358777983
         },
         {
          "features": "previous",
          "importances": 0.028764240289636377
         },
         {
          "features": "cons.price.idx",
          "importances": 0.023405761482191093
         },
         {
          "features": "cons.conf.idx",
          "importances": 0.020758940620409755
         }
        ]
       },
       "encoding": {
        "x": {
         "axis": {
          "labelAngle": 45
         },
         "field": "features",
         "sort": null,
         "title": "Feature",
         "type": "nominal"
        },
        "y": {
         "field": "importances",
         "title": "Importance",
         "type": "quantitative"
        }
       },
       "mark": {
        "color": "red",
        "opacity": 0.85,
        "type": "bar"
       },
       "title": "Random Forest Feature Importances",
       "width": 500
      },
      "image/png": "[encoded data removed]",
      "text/plain": [
       "<VegaLite 2 object>\n",
       "\n",
       "If you see this message, it means the renderer has not been properly enabled\n",
       "for the frontend that you are using. For more information, see\n",
       "https://altair-viz.github.io/user_guide/troubleshooting.html\n"
      ]
     },
     "execution_count": 13,
     "metadata": {},
     "output_type": "execute_result"
    }
   ],
   "source": [
    "import altair as alt\n",
    "\n",
    "def plot_imp(best_features, scores, method_name, color):\n",
    "    \n",
    "    df = pd.DataFrame({'features': best_features, \n",
    "                       'importances': scores})\n",
    "    \n",
    "    chart = alt.Chart(df, \n",
    "                      width=500, \n",
    "                      title=method_name + ' Feature Importances'\n",
    "                     ).mark_bar(opacity=0.85, \n",
    "                                color=color).encode(\n",
    "        alt.X('features', title='Feature', sort=None, axis=alt.AxisConfig(labelAngle=45)),\n",
    "        alt.Y('importances', title='Importance')\n",
    "    )\n",
    "    \n",
    "    return chart\n",
    "\n",
    "plot_imp(best_features_rfi, feature_importances_rfi, 'Random Forest', 'red')"
   ]
  },
  {
   "cell_type": "markdown",
   "metadata": {},
   "source": [
    "## Data Sampling & Train-Test Splitting\n",
    "The full dataset has more than 45K rows. So, we have randomly selected a small sample of  5K rows and Split this sample into train and test with a ratio of  70:30 ratio using the stratification method."
   ]
  },
  {
   "cell_type": "code",
   "execution_count": 14,
   "metadata": {},
   "outputs": [
    {
     "name": "stdout",
     "output_type": "stream",
     "text": [
      "(5000, 51)\n",
      "(5000, 1)\n"
     ]
    }
   ],
   "source": [
    "sample = 5000\n",
    "\n",
    "Data_s = pd.DataFrame(Bank).sample(n=sample, random_state=8).values\n",
    "target_s = pd.DataFrame(target).sample(n=sample, random_state=8).values\n",
    "\n",
    "print(Data_s.shape)\n",
    "print(target_s.shape)"
   ]
  },
  {
   "cell_type": "code",
   "execution_count": 15,
   "metadata": {},
   "outputs": [
    {
     "name": "stdout",
     "output_type": "stream",
     "text": [
      "(3500, 51)\n",
      "(1500, 51)\n"
     ]
    }
   ],
   "source": [
    "from sklearn.model_selection import train_test_split\n",
    "\n",
    "DStrain, DStest, \\\n",
    "TStrain, TStest = train_test_split(Data_s, target_s, \n",
    "                                                    test_size = 0.3, random_state=999,\n",
    "                                                    stratify = target_s)\n",
    "\n",
    "print(DStrain.shape)\n",
    "print(DStest.shape)"
   ]
  },
  {
   "cell_type": "markdown",
   "metadata": {},
   "source": [
    "## Model Evaluation Strategy\n",
    "\n",
    "So, we shall be training and tuning our models on 3.5K rows of training data and we will test them on 1.5K rows of test data.\n",
    "\n",
    "For each these models, we will utilize 5-crease stratified cross-approval assessment strategy (with no reiterations for shorter run times) for hyperparameter tuning."
   ]
  },
  {
   "cell_type": "code",
   "execution_count": 16,
   "metadata": {},
   "outputs": [],
   "source": [
    "from sklearn.model_selection import StratifiedKFold, GridSearchCV\n",
    "\n",
    "cv_method = StratifiedKFold(n_splits=5, random_state=999)"
   ]
  },
  {
   "cell_type": "markdown",
   "metadata": {},
   "source": [
    "# Hyperparameter Tuning \n",
    "\n",
    "## K-Nearest Neighbors (KNN)\n",
    "\n",
    "Using Pipeline, we stack feature selection and grid search for KNN hyperparameter tuning via cross-validation. We will use the same Pipeline methodology for NB and DT.\n",
    "\n",
    "The KNN hyperparameters are as follows:\n",
    "\n",
    "number of neighbours (n_neighbors) and\n",
    "the distance metric p.\n",
    "For feature selection, we use the powerful Random Forest Importance (RFI) method with 100 estimators, we define the custom RFIFeatureSelector() class below to pass in RFI as a \"step\" to the pipeline to make RFI feature selection as part of the pipeline."
   ]
  },
  {
   "cell_type": "code",
   "execution_count": 17,
   "metadata": {},
   "outputs": [],
   "source": [
    "from sklearn.base import BaseEstimator, TransformerMixin\n",
    "\n",
    "# custom function for RFI feature selection inside a pipeline\n",
    "# here we use n_estimators=100\n",
    "class RFIFeatureSelector(BaseEstimator, TransformerMixin):\n",
    "    \n",
    "    # class constructor \n",
    "    # make sure class attributes end with a \"_\"\n",
    "    # per scikit-learn convention to avoid errors\n",
    "    def __init__(self, n_features_=10):\n",
    "        self.n_features_ = n_features_\n",
    "        self.fs_indices_ = None\n",
    "\n",
    "    # override the fit function\n",
    "    def fit(self, X, y):\n",
    "        from sklearn.ensemble import RandomForestClassifier\n",
    "        from numpy import argsort\n",
    "        model_rfi = RandomForestClassifier(n_estimators=100)\n",
    "        model_rfi.fit(X, y)\n",
    "        self.fs_indices_ = argsort(model_rfi.feature_importances_)[::-1][0:self.n_features_] \n",
    "        return self \n",
    "    \n",
    "    # override the transform function\n",
    "    def transform(self, X, y=None):\n",
    "        return X[:, self.fs_indices_]"
   ]
  },
  {
   "cell_type": "code",
   "execution_count": 18,
   "metadata": {},
   "outputs": [],
   "source": [
    "from sklearn.pipeline import Pipeline\n",
    "from sklearn.neighbors import KNeighborsClassifier\n",
    "\n",
    "pipe_KNN = Pipeline(steps=[('rfi_fs', RFIFeatureSelector()), \n",
    "                           ('knn', KNeighborsClassifier())])\n",
    "\n",
    "params_pipe_KNN = {'rfi_fs__n_features_': [10, 20, Bank.shape[1]],\n",
    "                   'knn__n_neighbors': [1, 10, 20,40,60,100],\n",
    "                   'knn__p': [1, 2]}\n",
    "\n",
    "GridSearchCVKNN = GridSearchCV(estimator=pipe_KNN, \n",
    "                           param_grid=params_pipe_KNN, \n",
    "                           cv=cv_method,\n",
    "                           refit=True,\n",
    "                           n_jobs=-2,\n",
    "                           scoring='roc_auc',\n",
    "                           verbose=1)"
   ]
  },
  {
   "cell_type": "code",
   "execution_count": 19,
   "metadata": {},
   "outputs": [
    {
     "name": "stdout",
     "output_type": "stream",
     "text": [
      "Fitting 5 folds for each of 36 candidates, totalling 180 fits\n"
     ]
    },
    {
     "name": "stderr",
     "output_type": "stream",
     "text": [
      "[Parallel(n_jobs=-2)]: Using backend LokyBackend with 3 concurrent workers.\n",
      "[Parallel(n_jobs=-2)]: Done  44 tasks      | elapsed:    8.2s\n",
      "[Parallel(n_jobs=-2)]: Done 180 out of 180 | elapsed:   47.5s finished\n"
     ]
    }
   ],
   "source": [
    "GridSearchCVKNN.fit(DStrain, TStrain);"
   ]
  },
  {
   "cell_type": "code",
   "execution_count": 20,
   "metadata": {},
   "outputs": [
    {
     "data": {
      "text/plain": [
       "{'knn__n_neighbors': 100, 'knn__p': 1, 'rfi_fs__n_features_': 10}"
      ]
     },
     "execution_count": 20,
     "metadata": {},
     "output_type": "execute_result"
    }
   ],
   "source": [
    "GridSearchCVKNN.best_params_"
   ]
  },
  {
   "cell_type": "code",
   "execution_count": 21,
   "metadata": {},
   "outputs": [
    {
     "data": {
      "text/plain": [
       "0.7594934714541964"
      ]
     },
     "execution_count": 21,
     "metadata": {},
     "output_type": "execute_result"
    }
   ],
   "source": [
    "GridSearchCVKNN.best_score_"
   ]
  },
  {
   "cell_type": "markdown",
   "metadata": {},
   "source": [
    "We can see that the best  KNN model given by the grid search method has an average AUC score of 0.759. The best accomplishing KNN selected 10 features with 100 nearest neighbours and 𝑝=1.\n",
    "\n",
    "\n",
    "let's see the other combinations to see if the difference is rather meaningful or not. To do that, we will make use of the function below to format the grid search outputs as pd."
   ]
  },
  {
   "cell_type": "code",
   "execution_count": 22,
   "metadata": {},
   "outputs": [],
   "source": [
    "def get_search_results(gs):\n",
    "\n",
    "    def model_result(scores, params):\n",
    "        scores = {'mean_score': np.mean(scores),\n",
    "             'std_score': np.std(scores),\n",
    "             'min_score': np.min(scores),\n",
    "             'max_score': np.max(scores)}\n",
    "        return pd.Series({**params,**scores})\n",
    "\n",
    "    models = []\n",
    "    scores = []\n",
    "\n",
    "    for i in range(gs.n_splits_):\n",
    "        key = f\"split{i}_test_score\"\n",
    "        r = gs.cv_results_[key]        \n",
    "        scores.append(r.reshape(-1,1))\n",
    "\n",
    "    all_scores = np.hstack(scores)\n",
    "    for p, s in zip(gs.cv_results_['params'], all_scores):\n",
    "        models.append((model_result(s, p)))\n",
    "\n",
    "    pipe_results = pd.concat(models, axis=1).T.sort_values(['mean_score'], ascending=False)\n",
    "\n",
    "    columns_first = ['mean_score', 'std_score', 'max_score', 'min_score']\n",
    "    columns = columns_first + [c for c in pipe_results.columns if c not in columns_first]\n",
    "\n",
    "    return pipe_results[columns]\n"
   ]
  },
  {
   "cell_type": "code",
   "execution_count": 23,
   "metadata": {},
   "outputs": [
    {
     "ename": "NameError",
     "evalue": "name 'gs_pipe_KNN' is not defined",
     "output_type": "error",
     "traceback": [
      "\u001b[0;31m---------------------------------------------------------------------------\u001b[0m",
      "\u001b[0;31mNameError\u001b[0m                                 Traceback (most recent call last)",
      "\u001b[0;32m<ipython-input-23-e2ed12c70c60>\u001b[0m in \u001b[0;36m<module>\u001b[0;34m\u001b[0m\n\u001b[0;32m----> 1\u001b[0;31m \u001b[0mresults_KNN\u001b[0m \u001b[0;34m=\u001b[0m \u001b[0mget_search_results\u001b[0m\u001b[0;34m(\u001b[0m\u001b[0mgs_pipe_KNN\u001b[0m\u001b[0;34m)\u001b[0m\u001b[0;34m\u001b[0m\u001b[0;34m\u001b[0m\u001b[0m\n\u001b[0m\u001b[1;32m      2\u001b[0m \u001b[0mresults_KNN\u001b[0m\u001b[0;34m.\u001b[0m\u001b[0mhead\u001b[0m\u001b[0;34m(\u001b[0m\u001b[0;34m)\u001b[0m\u001b[0;34m\u001b[0m\u001b[0;34m\u001b[0m\u001b[0m\n",
      "\u001b[0;31mNameError\u001b[0m: name 'gs_pipe_KNN' is not defined"
     ]
    }
   ],
   "source": [
    "results_KNN = get_search_results(gs_pipe_KNN)\n",
    "results_KNN.head()"
   ]
  },
  {
   "cell_type": "markdown",
   "metadata": {},
   "source": [
    "\n",
    "- visualising these results"
   ]
  },
  {
   "cell_type": "code",
   "execution_count": null,
   "metadata": {},
   "outputs": [],
   "source": [
    "import altair as alt\n",
    "\n",
    "results_KNN_10_features = results_KNN[results_KNN['rfi_fs__n_features_'] == 10.0]\n",
    "\n",
    "alt.Chart(results_KNN_10_features, \n",
    "          title='KNN Performance Comparison with 10 Features'\n",
    "         ).mark_line(point=True).encode(\n",
    "    alt.X('knn__n_neighbors', title='Number of Neighbors'),\n",
    "    alt.Y('mean_score', title='AUC Score', scale=alt.Scale(zero=False)),\n",
    "    alt.Color('knn__p:N', title='p')\n",
    ")"
   ]
  },
  {
   "cell_type": "markdown",
   "metadata": {},
   "source": [
    "## (Gaussian) Naive Bayes (NB)\n",
    "\n",
    "For Implementing a Gaussian Naive Bayes model, we optimize var_smoothing (a variation of Laplace smoothing) as we don't have any earlier data about our dataset. Of course, the var_smoothing parameter's esteem is 10−9. We lead the lattice search in the log space (over the forces of 10) sourced from NumPy. We begin with 10 and end with 10−3 with 200 different values, however, we perform a random search over only 20 different values (for shorter run times). Since NB requires each descriptive feature to follow a Gaussian Distribution, we initially play out a power change(Transformation) on the information before model fitting."
   ]
  },
  {
   "cell_type": "code",
   "execution_count": null,
   "metadata": {},
   "outputs": [],
   "source": [
    "from sklearn.preprocessing import PowerTransformer\n",
    "DStransformed = PowerTransformer().fit_transform(DStrain)"
   ]
  },
  {
   "cell_type": "code",
   "execution_count": null,
   "metadata": {},
   "outputs": [],
   "source": [
    "from sklearn.naive_bayes import GaussianNB\n",
    "from sklearn.model_selection import RandomizedSearchCV\n",
    "\n",
    "pipe_NB = Pipeline([('rfi_fs', RFIFeatureSelector()), \n",
    "                     ('nb', GaussianNB())])\n",
    "\n",
    "params_pipe_NB  = {'rfi_fs__n_features_': [10, 20, Bank.shape[1]],\n",
    "                  'nb__var_smoothing': np.logspace(1,-3,num=200)}\n",
    "\n",
    "n_iter_search = 20\n",
    "gs_pipe_NB = RandomizedSearchCV(estimator=pipe_NB, \n",
    "                          param_distributions=params_pipe_NB, \n",
    "                          cv=cv_method,\n",
    "                          refit=True,\n",
    "                          n_jobs=-2,\n",
    "                          scoring='roc_auc',\n",
    "                          n_iter=n_iter_search,\n",
    "                          verbose=1) \n",
    "\n",
    "gs_pipe_NB.fit(DStransformed, TStrain);"
   ]
  },
  {
   "cell_type": "code",
   "execution_count": null,
   "metadata": {},
   "outputs": [],
   "source": [
    "gs_pipe_NB.best_params_"
   ]
  },
  {
   "cell_type": "code",
   "execution_count": null,
   "metadata": {},
   "outputs": [],
   "source": [
    "gs_pipe_NB.best_score_"
   ]
  },
  {
   "cell_type": "markdown",
   "metadata": {},
   "source": [
    "The best NB has an AUC score of 0.754 with 50 features, which is slightly less than KNN.we can also see that the with gridsearch the optimal number of features is 50 rather than 10.\n",
    "\n"
   ]
  },
  {
   "cell_type": "code",
   "execution_count": null,
   "metadata": {},
   "outputs": [],
   "source": [
    "results_NB = get_search_results(gs_pipe_NB)\n",
    "results_NB.head()"
   ]
  },
  {
   "cell_type": "markdown",
   "metadata": {},
   "source": [
    "- visualize the search results."
   ]
  },
  {
   "cell_type": "code",
   "execution_count": null,
   "metadata": {},
   "outputs": [],
   "source": [
    "results_NB_10_features = results_NB[results_NB['rfi_fs__n_features_'] == 10.0]\n",
    "\n",
    "alt.Chart(results_NB_10_features, \n",
    "          title='NB Performance Comparison with 10 Features'\n",
    "         ).mark_line(point=True).encode(\n",
    "    alt.X('nb__var_smoothing', title='Var. Smoothing'),\n",
    "    alt.Y('mean_score', title='AUC Score', scale=alt.Scale(zero=False))\n",
    ")"
   ]
  },
  {
   "cell_type": "markdown",
   "metadata": {},
   "source": [
    "## Decision Tree (DT)\n",
    "We build a Decision Tree model using the Gini Index to increase Information Gain. We aim to determine the best values of maximum depth (max_depth) and minimum sample split (min_samples_split). We conduct the grid search with values of 3, 5,7,9 for  max_depth and 5,10,15 for  min_samples_split."
   ]
  },
  {
   "cell_type": "code",
   "execution_count": null,
   "metadata": {},
   "outputs": [],
   "source": [
    "from sklearn.tree import DecisionTreeClassifier\n",
    "\n",
    "pipe_DT = Pipeline([('rfi_fs', RFIFeatureSelector()),\n",
    "                    ('dt', DecisionTreeClassifier(criterion='gini'))])\n",
    "params_pipe_DT = {'rfi_fs__n_features_': [10, 20, Bank.shape[1]],\n",
    "                  'dt__max_depth': [3, 5, 7, 9],\n",
    "                  'dt__min_samples_split': [5, 10, 15]}\n",
    "\n",
    "gs_pipe_DT = GridSearchCV(estimator=pipe_DT, \n",
    "                          param_grid=params_pipe_DT, \n",
    "                          cv=cv_method,\n",
    "                          refit=True,\n",
    "                          n_jobs=-2,\n",
    "                          scoring='roc_auc',\n",
    "                          verbose=1) \n",
    "\n",
    "gs_pipe_DT.fit(DStrain, TStrain);"
   ]
  },
  {
   "cell_type": "code",
   "execution_count": null,
   "metadata": {},
   "outputs": [],
   "source": [
    "gs_pipe_DT.best_params_"
   ]
  },
  {
   "cell_type": "code",
   "execution_count": null,
   "metadata": {},
   "outputs": [],
   "source": [
    "gs_pipe_DT.best_score_"
   ]
  },
  {
   "cell_type": "markdown",
   "metadata": {},
   "source": [
    "The optimal DT has a dt_max_depth of 3 and dt__min_samples_split value of 5 samples with an AUC score of 0.73. \n",
    "- A visualization of the search results is given below"
   ]
  },
  {
   "cell_type": "code",
   "execution_count": null,
   "metadata": {},
   "outputs": [],
   "source": [
    "results_DT = get_search_results(gs_pipe_DT)\n",
    "\n",
    "results_DT_10_features = results_DT[results_DT['rfi_fs__n_features_'] == 10.0]\n",
    "\n",
    "alt.Chart(results_DT_10_features, \n",
    "          title='DT Performance Comparison with 10 Features'\n",
    "         ).mark_line(point=True).encode(\n",
    "    alt.X('dt__min_samples_split', title='Min Samples for Split'),\n",
    "    alt.Y('mean_score', title='AUC Score', scale=alt.Scale(zero=False)),\n",
    "    alt.Color('dt__max_depth:N', title='Max Depth')\n",
    ")"
   ]
  },
  {
   "cell_type": "markdown",
   "metadata": {},
   "source": [
    "# Performance Comparision\n",
    "We have improved every last one of the three classifiers utilizing the train data. We currently fit the improved models on test data in a cross-validated style. Be that as it may, since cross validation itself is a random procedure, we perform pairwise t-tests to decide whether any contrast between the exhibition of any two optimized classifiers that are statistically significant. To start with, we perform 10-fold stratified cross-validation on each best model (with no redundancies). Second, we lead a paired t-test for the AUC score between the accompanying model combinations:\n",
    "\n",
    "KNN vs. NB,\n",
    "\n",
    "\n",
    "KNN vs. DT, and\n",
    "\n",
    "\n",
    "DT vs. NB."
   ]
  },
  {
   "cell_type": "code",
   "execution_count": null,
   "metadata": {},
   "outputs": [],
   "source": [
    "from sklearn.model_selection import cross_val_score\n",
    "\n",
    "cv_method_ttest = StratifiedKFold(n_splits=10, random_state=999)\n",
    "\n",
    "cv_results_KNN = cross_val_score(estimator=gs_pipe_KNN.best_estimator_,\n",
    "                                 X=DStest,\n",
    "                                 y=TStest,\n",
    "                                 cv=cv_method_ttest,\n",
    "                                 n_jobs=-2,\n",
    "                                 scoring='roc_auc')\n",
    "cv_results_KNN.mean()"
   ]
  },
  {
   "cell_type": "code",
   "execution_count": null,
   "metadata": {},
   "outputs": [],
   "source": [
    "DStransformed = PowerTransformer().fit_transform(DStest)\n",
    "\n",
    "cv_results_NB = cross_val_score(estimator=gs_pipe_NB.best_estimator_,\n",
    "                                X=DStransformed,\n",
    "                                y=TStest, \n",
    "                                cv=cv_method_ttest, \n",
    "                                n_jobs=-2,\n",
    "                                scoring='roc_auc')\n",
    "cv_results_NB.mean()"
   ]
  },
  {
   "cell_type": "code",
   "execution_count": null,
   "metadata": {},
   "outputs": [],
   "source": [
    "cv_results_DT = cross_val_score(estimator=gs_pipe_DT.best_estimator_,\n",
    "                                X=DStest,\n",
    "                                y=TStest, \n",
    "                                cv=cv_method_ttest, \n",
    "                                n_jobs=-2,\n",
    "                                scoring='roc_auc')\n",
    "cv_results_DT.mean()"
   ]
  },
  {
   "cell_type": "raw",
   "metadata": {},
   "source": [
    "Since we have a constant random state , all classifiers were fitted and then tested on exactly the same test data partitions. We use the stats.ttest_rel()which is from the SciPy module to run the following t-tests on test data."
   ]
  },
  {
   "cell_type": "code",
   "execution_count": null,
   "metadata": {},
   "outputs": [],
   "source": [
    "from scipy import stats\n",
    "\n",
    "print(stats.ttest_rel(cv_results_KNN, cv_results_NB))\n",
    "print(stats.ttest_rel(cv_results_DT, cv_results_KNN))\n",
    "print(stats.ttest_rel(cv_results_DT, cv_results_NB))"
   ]
  },
  {
   "cell_type": "markdown",
   "metadata": {},
   "source": [
    "we can see that at a 95% significance level, KNN is measurably the best model"
   ]
  },
  {
   "cell_type": "markdown",
   "metadata": {},
   "source": [
    "Though we used AUC to optimize the algorithm hyperparameters, we shall consider the following metrics to evaluate models based on the test set:\n",
    "\n",
    "- Accuracy\n",
    "- Precision\n",
    "- Recall\n",
    "- F1 Score (the harmonic average of precision and recall)\n",
    "- Confusion Matrix\n",
    "\n",
    "\n",
    "These metrics can be computed using classification_report from sklearn.metrics. The classification reports are shown below."
   ]
  },
  {
   "cell_type": "code",
   "execution_count": null,
   "metadata": {},
   "outputs": [],
   "source": [
    "pred_KNN = gs_pipe_KNN.predict(DStest)"
   ]
  },
  {
   "cell_type": "code",
   "execution_count": null,
   "metadata": {},
   "outputs": [],
   "source": [
    "Data_test_transformed = PowerTransformer().fit_transform(DStest)\n",
    "pred_NB = gs_pipe_NB.predict(DStransformed)"
   ]
  },
  {
   "cell_type": "code",
   "execution_count": null,
   "metadata": {},
   "outputs": [],
   "source": [
    "pred_DT = gs_pipe_DT.predict(DStest)"
   ]
  },
  {
   "cell_type": "code",
   "execution_count": null,
   "metadata": {},
   "outputs": [],
   "source": [
    "from sklearn import metrics\n",
    "print(\"\\nClassification report for K-Nearest Neighbor\") \n",
    "print(metrics.classification_report(TStest, pred_KNN))\n",
    "print(\"\\nClassification report for Naive Bayes\") \n",
    "print(metrics.classification_report(TStest, pred_NB))\n",
    "print(\"\\nClassification report for Decision Tree\") \n",
    "print(metrics.classification_report(TStest, pred_DT))"
   ]
  },
  {
   "cell_type": "code",
   "execution_count": null,
   "metadata": {},
   "outputs": [],
   "source": [
    "from sklearn import metrics\n",
    "print(\"\\nConfusion matrix for K-Nearest Neighbor\") \n",
    "print(metrics.confusion_matrix(TStest, pred_KNN))\n",
    "print(\"\\nConfusion matrix for Naive Bayes\") \n",
    "print(metrics.confusion_matrix(TStest, pred_NB))\n",
    "print(\"\\nConfusion matrix for Decision Tree\") \n",
    "print(metrics.confusion_matrix(TStest, pred_DT))"
   ]
  },
  {
   "cell_type": "markdown",
   "metadata": {},
   "source": [
    "Since we would pick recall as the performance metric, which is comparable to the true positive rate (TPR). In this unique circumstance, DT would be the best performer since it delivers the most astounding recall score for customers who subscribed to a term deposit. The confusion matrices are in accordance with the classification reports. This is in a contrast to our finding that KNN is measurably the best model with regards to the AUC metric."
   ]
  },
  {
   "cell_type": "markdown",
   "metadata": {},
   "source": [
    "# Limitations and Proposed Solutions \n",
    "Our modelling strategy has a couple of imperfections and confinements. To start with, ours was a black-box approach since we preferred raw predictive performance over interpretability. Later on, In the future, we could consider a more inside and out an investigation of feature selection & ranking process as well as our choices for the hyperparameter spaces.\n",
    "\n",
    "Second, we used a blanket power transformation on the training data when building the NB, disregarding the dummy features in the dataset. This may somewhat clarify the poor execution of the NB when assessed on the test set. A potential solution is to build a Gaussian NB and a Bernoulli NB independently on the numerical and dummy descriptive features individually. At that point, we can compute a final prediction by multiplying predictions from each model since NB assumes inter-independence conditioned on the value of the target feature.\n",
    "\n",
    "Third, The feature selection with ten best features hasn't worked well. We have seen 20 and 51 as the best number of features. For this, in future, we can increase the number of important features and check whether we get Better Results.\n",
    "\n",
    "Lastly, we just worked with a little subset of the full dataset for shorter run times, both for preparing and testing. Since information is constantly significant, we could re-run our trials with the whole information while ensuring that the train and test split is performed in a legitimate manner.\n",
    "\n",
    "\n",
    "The KNN classifier statistically outperforms the other two models. Therefore, we can perhaps improve it by further expanding the hyperparameter search space by including other parameters of this classification method. Furthermore, we can consider random forests and other ensemble methods built on trees as potentially better models."
   ]
  },
  {
   "cell_type": "markdown",
   "metadata": {},
   "source": [
    "- "
   ]
  },
  {
   "cell_type": "markdown",
   "metadata": {},
   "source": [
    "# Summary \n",
    "The K-Nearest Neighbors (KNN) model with 10 of the best features chosen by Random Forest Importance (RFI) produces the highest cross-validated AUC score on the train data. Also, when assessed on the test set, the Decision Tree model got high precision score and most astounding review score which again beats both Naive Bayes and k-Nearest Neighbor models concerning AUC. Since we can see that the number of features of DT model is 20 and 51 for NB model We can observe that our models is sensitive to the number of features. For this reason, we should work with full feature set."
   ]
  },
  {
   "cell_type": "markdown",
   "metadata": {},
   "source": [
    "# References\n",
    "* S. Moro, P. Cortez and P. Rita,(2014),Bank-Marketing Data Set,https://archive.ics.uci.edu/ml/datasets/Bank+Marketing"
   ]
  }
 ],
 "metadata": {
  "kernelspec": {
   "display_name": "Python 3",
   "language": "python",
   "name": "python3"
  },
  "language_info": {
   "codemirror_mode": {
    "name": "ipython",
    "version": 3
   },
   "file_extension": ".py",
   "mimetype": "text/x-python",
   "name": "python",
   "nbconvert_exporter": "python",
   "pygments_lexer": "ipython3",
   "version": "3.7.3"
  }
 },
 "nbformat": 4,
 "nbformat_minor": 2
}
